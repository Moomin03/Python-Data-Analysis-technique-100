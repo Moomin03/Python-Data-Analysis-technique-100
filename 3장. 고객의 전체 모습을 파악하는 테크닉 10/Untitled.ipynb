{
 "cells": [
  {
   "cell_type": "markdown",
   "id": "fcf1ccf1-ac4c-42c6-b389-b867ba755804",
   "metadata": {},
   "source": [
    "### 🗂️ 데이터 구성\n",
    "---\n",
    "    1. "
   ]
  },
  {
   "cell_type": "code",
   "execution_count": null,
   "id": "a60c370e-d91a-4635-ab56-655523816db2",
   "metadata": {},
   "outputs": [],
   "source": []
  }
 ],
 "metadata": {
  "kernelspec": {
   "display_name": "Python 3 (ipykernel)",
   "language": "python",
   "name": "python3"
  },
  "language_info": {
   "codemirror_mode": {
    "name": "ipython",
    "version": 3
   },
   "file_extension": ".py",
   "mimetype": "text/x-python",
   "name": "python",
   "nbconvert_exporter": "python",
   "pygments_lexer": "ipython3",
   "version": "3.9.6"
  }
 },
 "nbformat": 4,
 "nbformat_minor": 5
}
